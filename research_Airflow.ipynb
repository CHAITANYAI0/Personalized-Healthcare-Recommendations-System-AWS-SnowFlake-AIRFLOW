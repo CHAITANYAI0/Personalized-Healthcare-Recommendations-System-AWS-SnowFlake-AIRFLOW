{
 "cells": [
  {
   "cell_type": "code",
   "execution_count": 6,
   "metadata": {},
   "outputs": [
    {
     "data": {
      "text/html": [
       "<pre style=\"white-space:pre;overflow-x:auto;line-height:normal;font-family:Menlo,'DejaVu Sans Mono',consolas,'Courier New',monospace\"><span style=\"color: #808000; text-decoration-color: #808000; font-weight: bold\">/var/folders/vy/lbm6tmp563jbdts82tm6d2ym0000gn/T/ipykernel_56874/3293578302.py:</span><span style=\"color: #808000; text-decoration-color: #808000; font-weight: bold\">3</span><span style=\"color: #808000; text-decoration-color: #808000; font-weight: bold\"> DeprecationWarning</span><span style=\"color: #808000; text-decoration-color: #808000\">: The `airflow.operators.python_operator.PythonOperator` class is deprecated. Please use `</span><span style=\"color: #808000; text-decoration-color: #808000\">'airflow.operators.python.PythonOperator'</span><span style=\"color: #808000; text-decoration-color: #808000\">`.</span>\n",
       "</pre>\n"
      ],
      "text/plain": [
       "\u001b[1;33m/var/folders/vy/lbm6tmp563jbdts82tm6d2ym0000gn/T/ipykernel_56874/\u001b[0m\u001b[1;33m3293578302.py\u001b[0m\u001b[1;33m:\u001b[0m\u001b[1;33m3\u001b[0m\u001b[1;33m DeprecationWarning\u001b[0m\u001b[33m: The `airflow.operators.python_operator.PythonOperator` class is deprecated. Please use `\u001b[0m\u001b[33m'airflow.operators.python.PythonOperator'\u001b[0m\u001b[33m`.\u001b[0m\n"
      ]
     },
     "metadata": {},
     "output_type": "display_data"
    },
    {
     "name": "stdout",
     "output_type": "stream",
     "text": [
      "An error occurred: init is no longer a top-level attribute of the pinecone package.\n",
      "\n",
      "Please create an instance of the Pinecone class instead.\n",
      "\n",
      "Example:\n",
      "\n",
      "    import os\n",
      "    from pinecone import Pinecone, ServerlessSpec\n",
      "\n",
      "    pc = Pinecone(\n",
      "        api_key=os.environ.get(\"PINECONE_API_KEY\")\n",
      "    )\n",
      "\n",
      "    # Now do stuff\n",
      "    if 'my_index' not in pc.list_indexes().names():\n",
      "        pc.create_index(\n",
      "            name='my_index', \n",
      "            dimension=1536, \n",
      "            metric='euclidean',\n",
      "            spec=ServerlessSpec(\n",
      "                cloud='aws',\n",
      "                region='us-west-2'\n",
      "            )\n",
      "        )\n",
      "\n",
      "\n"
     ]
    },
    {
     "data": {
      "text/html": [
       "<pre style=\"white-space:pre;overflow-x:auto;line-height:normal;font-family:Menlo,'DejaVu Sans Mono',consolas,'Courier New',monospace\"><span style=\"color: #808000; text-decoration-color: #808000; font-weight: bold\">/var/folders/vy/lbm6tmp563jbdts82tm6d2ym0000gn/T/ipykernel_56874/3293578302.py:</span><span style=\"color: #808000; text-decoration-color: #808000; font-weight: bold\">263</span><span style=\"color: #808000; text-decoration-color: #808000; font-weight: bold\"> RemovedInAirflow3Warning</span><span style=\"color: #808000; text-decoration-color: #808000\">: Function `days_ago` is deprecated and will be removed in Airflow </span><span style=\"color: #808000; text-decoration-color: #808000; font-weight: bold\">3.0</span><span style=\"color: #808000; text-decoration-color: #808000\">. You can achieve equivalent behavior with `</span><span style=\"color: #808000; text-decoration-color: #808000; font-weight: bold\">pendulum.today(</span><span style=\"color: #808000; text-decoration-color: #808000\">'UTC'</span><span style=\"color: #808000; text-decoration-color: #808000; font-weight: bold\">).add(</span><span style=\"color: #808000; text-decoration-color: #808000\">days</span><span style=\"color: #808000; text-decoration-color: #808000\">=-N, ...</span><span style=\"color: #808000; text-decoration-color: #808000; font-weight: bold\">)</span><span style=\"color: #808000; text-decoration-color: #808000\">`</span>\n",
       "</pre>\n"
      ],
      "text/plain": [
       "\u001b[1;33m/var/folders/vy/lbm6tmp563jbdts82tm6d2ym0000gn/T/ipykernel_56874/\u001b[0m\u001b[1;33m3293578302.py\u001b[0m\u001b[1;33m:\u001b[0m\u001b[1;33m263\u001b[0m\u001b[1;33m RemovedInAirflow3Warning\u001b[0m\u001b[33m: Function `days_ago` is deprecated and will be removed in Airflow \u001b[0m\u001b[1;33m3.0\u001b[0m\u001b[33m. You can achieve equivalent behavior with `\u001b[0m\u001b[1;33mpendulum.today\u001b[0m\u001b[1;33m(\u001b[0m\u001b[33m'UTC'\u001b[0m\u001b[1;33m)\u001b[0m\u001b[1;33m.add\u001b[0m\u001b[1;33m(\u001b[0m\u001b[33mdays\u001b[0m\u001b[33m=-N, \u001b[0m\u001b[33m...\u001b[0m\u001b[1;33m)\u001b[0m\u001b[33m`\u001b[0m\n"
      ]
     },
     "metadata": {},
     "output_type": "display_data"
    },
    {
     "data": {
      "text/html": [
       "<pre style=\"white-space:pre;overflow-x:auto;line-height:normal;font-family:Menlo,'DejaVu Sans Mono',consolas,'Courier New',monospace\"><span style=\"color: #808000; text-decoration-color: #808000; font-weight: bold\">/var/folders/vy/lbm6tmp563jbdts82tm6d2ym0000gn/T/ipykernel_56874/3293578302.py:</span><span style=\"color: #808000; text-decoration-color: #808000; font-weight: bold\">259</span><span style=\"color: #808000; text-decoration-color: #808000; font-weight: bold\"> RemovedInAirflow3Warning</span><span style=\"color: #808000; text-decoration-color: #808000\">: Param `schedule_interval` is deprecated and will be removed in a future release. Please use `schedule` instead.</span>\n",
       "</pre>\n"
      ],
      "text/plain": [
       "\u001b[1;33m/var/folders/vy/lbm6tmp563jbdts82tm6d2ym0000gn/T/ipykernel_56874/\u001b[0m\u001b[1;33m3293578302.py\u001b[0m\u001b[1;33m:\u001b[0m\u001b[1;33m259\u001b[0m\u001b[1;33m RemovedInAirflow3Warning\u001b[0m\u001b[33m: Param `schedule_interval` is deprecated and will be removed in a future release. Please use `schedule` instead.\u001b[0m\n"
      ]
     },
     "metadata": {},
     "output_type": "display_data"
    },
    {
     "data": {
      "text/html": [
       "<pre style=\"white-space:pre;overflow-x:auto;line-height:normal;font-family:Menlo,'DejaVu Sans Mono',consolas,'Courier New',monospace\"><span style=\"color: #808000; text-decoration-color: #808000; font-weight: bold\">/var/folders/vy/lbm6tmp563jbdts82tm6d2ym0000gn/T/ipykernel_56874/3293578302.py:</span><span style=\"color: #808000; text-decoration-color: #808000; font-weight: bold\">271</span><span style=\"color: #808000; text-decoration-color: #808000; font-weight: bold\"> RemovedInAirflow3Warning</span><span style=\"color: #808000; text-decoration-color: #808000\">: provide_context is deprecated as of </span><span style=\"color: #808000; text-decoration-color: #808000; font-weight: bold\">2.0</span><span style=\"color: #808000; text-decoration-color: #808000\"> and is no longer required</span>\n",
       "</pre>\n"
      ],
      "text/plain": [
       "\u001b[1;33m/var/folders/vy/lbm6tmp563jbdts82tm6d2ym0000gn/T/ipykernel_56874/\u001b[0m\u001b[1;33m3293578302.py\u001b[0m\u001b[1;33m:\u001b[0m\u001b[1;33m271\u001b[0m\u001b[1;33m RemovedInAirflow3Warning\u001b[0m\u001b[33m: provide_context is deprecated as of \u001b[0m\u001b[1;33m2.0\u001b[0m\u001b[33m and is no longer required\u001b[0m\n"
      ]
     },
     "metadata": {},
     "output_type": "display_data"
    },
    {
     "data": {
      "text/html": [
       "<pre style=\"white-space:pre;overflow-x:auto;line-height:normal;font-family:Menlo,'DejaVu Sans Mono',consolas,'Courier New',monospace\"><span style=\"color: #808000; text-decoration-color: #808000; font-weight: bold\">/var/folders/vy/lbm6tmp563jbdts82tm6d2ym0000gn/T/ipykernel_56874/3293578302.py:</span><span style=\"color: #808000; text-decoration-color: #808000; font-weight: bold\">288</span><span style=\"color: #808000; text-decoration-color: #808000; font-weight: bold\"> RemovedInAirflow3Warning</span><span style=\"color: #808000; text-decoration-color: #808000\">: Function `days_ago` is deprecated and will be removed in Airflow </span><span style=\"color: #808000; text-decoration-color: #808000; font-weight: bold\">3.0</span><span style=\"color: #808000; text-decoration-color: #808000\">. You can achieve equivalent behavior with `</span><span style=\"color: #808000; text-decoration-color: #808000; font-weight: bold\">pendulum.today(</span><span style=\"color: #808000; text-decoration-color: #808000\">'UTC'</span><span style=\"color: #808000; text-decoration-color: #808000; font-weight: bold\">).add(</span><span style=\"color: #808000; text-decoration-color: #808000\">days</span><span style=\"color: #808000; text-decoration-color: #808000\">=-N, ...</span><span style=\"color: #808000; text-decoration-color: #808000; font-weight: bold\">)</span><span style=\"color: #808000; text-decoration-color: #808000\">`</span>\n",
       "</pre>\n"
      ],
      "text/plain": [
       "\u001b[1;33m/var/folders/vy/lbm6tmp563jbdts82tm6d2ym0000gn/T/ipykernel_56874/\u001b[0m\u001b[1;33m3293578302.py\u001b[0m\u001b[1;33m:\u001b[0m\u001b[1;33m288\u001b[0m\u001b[1;33m RemovedInAirflow3Warning\u001b[0m\u001b[33m: Function `days_ago` is deprecated and will be removed in Airflow \u001b[0m\u001b[1;33m3.0\u001b[0m\u001b[33m. You can achieve equivalent behavior with `\u001b[0m\u001b[1;33mpendulum.today\u001b[0m\u001b[1;33m(\u001b[0m\u001b[33m'UTC'\u001b[0m\u001b[1;33m)\u001b[0m\u001b[1;33m.add\u001b[0m\u001b[1;33m(\u001b[0m\u001b[33mdays\u001b[0m\u001b[33m=-N, \u001b[0m\u001b[33m...\u001b[0m\u001b[1;33m)\u001b[0m\u001b[33m`\u001b[0m\n"
      ]
     },
     "metadata": {},
     "output_type": "display_data"
    },
    {
     "data": {
      "text/html": [
       "<pre style=\"white-space:pre;overflow-x:auto;line-height:normal;font-family:Menlo,'DejaVu Sans Mono',consolas,'Courier New',monospace\"><span style=\"color: #808000; text-decoration-color: #808000; font-weight: bold\">/var/folders/vy/lbm6tmp563jbdts82tm6d2ym0000gn/T/ipykernel_56874/3293578302.py:</span><span style=\"color: #808000; text-decoration-color: #808000; font-weight: bold\">284</span><span style=\"color: #808000; text-decoration-color: #808000; font-weight: bold\"> RemovedInAirflow3Warning</span><span style=\"color: #808000; text-decoration-color: #808000\">: Param `schedule_interval` is deprecated and will be removed in a future release. Please use `schedule` instead.</span>\n",
       "</pre>\n"
      ],
      "text/plain": [
       "\u001b[1;33m/var/folders/vy/lbm6tmp563jbdts82tm6d2ym0000gn/T/ipykernel_56874/\u001b[0m\u001b[1;33m3293578302.py\u001b[0m\u001b[1;33m:\u001b[0m\u001b[1;33m284\u001b[0m\u001b[1;33m RemovedInAirflow3Warning\u001b[0m\u001b[33m: Param `schedule_interval` is deprecated and will be removed in a future release. Please use `schedule` instead.\u001b[0m\n"
      ]
     },
     "metadata": {},
     "output_type": "display_data"
    },
    {
     "data": {
      "text/html": [
       "<pre style=\"white-space:pre;overflow-x:auto;line-height:normal;font-family:Menlo,'DejaVu Sans Mono',consolas,'Courier New',monospace\"><span style=\"color: #808000; text-decoration-color: #808000; font-weight: bold\">/var/folders/vy/lbm6tmp563jbdts82tm6d2ym0000gn/T/ipykernel_56874/3293578302.py:</span><span style=\"color: #808000; text-decoration-color: #808000; font-weight: bold\">293</span><span style=\"color: #808000; text-decoration-color: #808000; font-weight: bold\"> RemovedInAirflow3Warning</span><span style=\"color: #808000; text-decoration-color: #808000\">: provide_context is deprecated as of </span><span style=\"color: #808000; text-decoration-color: #808000; font-weight: bold\">2.0</span><span style=\"color: #808000; text-decoration-color: #808000\"> and is no longer required</span>\n",
       "</pre>\n"
      ],
      "text/plain": [
       "\u001b[1;33m/var/folders/vy/lbm6tmp563jbdts82tm6d2ym0000gn/T/ipykernel_56874/\u001b[0m\u001b[1;33m3293578302.py\u001b[0m\u001b[1;33m:\u001b[0m\u001b[1;33m293\u001b[0m\u001b[1;33m RemovedInAirflow3Warning\u001b[0m\u001b[33m: provide_context is deprecated as of \u001b[0m\u001b[1;33m2.0\u001b[0m\u001b[33m and is no longer required\u001b[0m\n"
      ]
     },
     "metadata": {},
     "output_type": "display_data"
    },
    {
     "data": {
      "text/html": [
       "<pre style=\"white-space:pre;overflow-x:auto;line-height:normal;font-family:Menlo,'DejaVu Sans Mono',consolas,'Courier New',monospace\"><span style=\"color: #808000; text-decoration-color: #808000; font-weight: bold\">/var/folders/vy/lbm6tmp563jbdts82tm6d2ym0000gn/T/ipykernel_56874/3293578302.py:</span><span style=\"color: #808000; text-decoration-color: #808000; font-weight: bold\">301</span><span style=\"color: #808000; text-decoration-color: #808000; font-weight: bold\"> RemovedInAirflow3Warning</span><span style=\"color: #808000; text-decoration-color: #808000\">: provide_context is deprecated as of </span><span style=\"color: #808000; text-decoration-color: #808000; font-weight: bold\">2.0</span><span style=\"color: #808000; text-decoration-color: #808000\"> and is no longer required</span>\n",
       "</pre>\n"
      ],
      "text/plain": [
       "\u001b[1;33m/var/folders/vy/lbm6tmp563jbdts82tm6d2ym0000gn/T/ipykernel_56874/\u001b[0m\u001b[1;33m3293578302.py\u001b[0m\u001b[1;33m:\u001b[0m\u001b[1;33m301\u001b[0m\u001b[1;33m RemovedInAirflow3Warning\u001b[0m\u001b[33m: provide_context is deprecated as of \u001b[0m\u001b[1;33m2.0\u001b[0m\u001b[33m and is no longer required\u001b[0m\n"
      ]
     },
     "metadata": {},
     "output_type": "display_data"
    },
    {
     "data": {
      "text/html": [
       "<pre style=\"white-space:pre;overflow-x:auto;line-height:normal;font-family:Menlo,'DejaVu Sans Mono',consolas,'Courier New',monospace\"><span style=\"color: #808000; text-decoration-color: #808000; font-weight: bold\">/var/folders/vy/lbm6tmp563jbdts82tm6d2ym0000gn/T/ipykernel_56874/3293578302.py:</span><span style=\"color: #808000; text-decoration-color: #808000; font-weight: bold\">314</span><span style=\"color: #808000; text-decoration-color: #808000; font-weight: bold\"> RemovedInAirflow3Warning</span><span style=\"color: #808000; text-decoration-color: #808000\">: Function `days_ago` is deprecated and will be removed in Airflow </span><span style=\"color: #808000; text-decoration-color: #808000; font-weight: bold\">3.0</span><span style=\"color: #808000; text-decoration-color: #808000\">. You can achieve equivalent behavior with `</span><span style=\"color: #808000; text-decoration-color: #808000; font-weight: bold\">pendulum.today(</span><span style=\"color: #808000; text-decoration-color: #808000\">'UTC'</span><span style=\"color: #808000; text-decoration-color: #808000; font-weight: bold\">).add(</span><span style=\"color: #808000; text-decoration-color: #808000\">days</span><span style=\"color: #808000; text-decoration-color: #808000\">=-N, ...</span><span style=\"color: #808000; text-decoration-color: #808000; font-weight: bold\">)</span><span style=\"color: #808000; text-decoration-color: #808000\">`</span>\n",
       "</pre>\n"
      ],
      "text/plain": [
       "\u001b[1;33m/var/folders/vy/lbm6tmp563jbdts82tm6d2ym0000gn/T/ipykernel_56874/\u001b[0m\u001b[1;33m3293578302.py\u001b[0m\u001b[1;33m:\u001b[0m\u001b[1;33m314\u001b[0m\u001b[1;33m RemovedInAirflow3Warning\u001b[0m\u001b[33m: Function `days_ago` is deprecated and will be removed in Airflow \u001b[0m\u001b[1;33m3.0\u001b[0m\u001b[33m. You can achieve equivalent behavior with `\u001b[0m\u001b[1;33mpendulum.today\u001b[0m\u001b[1;33m(\u001b[0m\u001b[33m'UTC'\u001b[0m\u001b[1;33m)\u001b[0m\u001b[1;33m.add\u001b[0m\u001b[1;33m(\u001b[0m\u001b[33mdays\u001b[0m\u001b[33m=-N, \u001b[0m\u001b[33m...\u001b[0m\u001b[1;33m)\u001b[0m\u001b[33m`\u001b[0m\n"
      ]
     },
     "metadata": {},
     "output_type": "display_data"
    },
    {
     "data": {
      "text/html": [
       "<pre style=\"white-space:pre;overflow-x:auto;line-height:normal;font-family:Menlo,'DejaVu Sans Mono',consolas,'Courier New',monospace\"><span style=\"color: #808000; text-decoration-color: #808000; font-weight: bold\">/var/folders/vy/lbm6tmp563jbdts82tm6d2ym0000gn/T/ipykernel_56874/3293578302.py:</span><span style=\"color: #808000; text-decoration-color: #808000; font-weight: bold\">310</span><span style=\"color: #808000; text-decoration-color: #808000; font-weight: bold\"> RemovedInAirflow3Warning</span><span style=\"color: #808000; text-decoration-color: #808000\">: Param `schedule_interval` is deprecated and will be removed in a future release. Please use `schedule` instead.</span>\n",
       "</pre>\n"
      ],
      "text/plain": [
       "\u001b[1;33m/var/folders/vy/lbm6tmp563jbdts82tm6d2ym0000gn/T/ipykernel_56874/\u001b[0m\u001b[1;33m3293578302.py\u001b[0m\u001b[1;33m:\u001b[0m\u001b[1;33m310\u001b[0m\u001b[1;33m RemovedInAirflow3Warning\u001b[0m\u001b[33m: Param `schedule_interval` is deprecated and will be removed in a future release. Please use `schedule` instead.\u001b[0m\n"
      ]
     },
     "metadata": {},
     "output_type": "display_data"
    },
    {
     "data": {
      "text/html": [
       "<pre style=\"white-space:pre;overflow-x:auto;line-height:normal;font-family:Menlo,'DejaVu Sans Mono',consolas,'Courier New',monospace\"><span style=\"color: #808000; text-decoration-color: #808000; font-weight: bold\">/var/folders/vy/lbm6tmp563jbdts82tm6d2ym0000gn/T/ipykernel_56874/3293578302.py:</span><span style=\"color: #808000; text-decoration-color: #808000; font-weight: bold\">319</span><span style=\"color: #808000; text-decoration-color: #808000; font-weight: bold\"> RemovedInAirflow3Warning</span><span style=\"color: #808000; text-decoration-color: #808000\">: provide_context is deprecated as of </span><span style=\"color: #808000; text-decoration-color: #808000; font-weight: bold\">2.0</span><span style=\"color: #808000; text-decoration-color: #808000\"> and is no longer required</span>\n",
       "</pre>\n"
      ],
      "text/plain": [
       "\u001b[1;33m/var/folders/vy/lbm6tmp563jbdts82tm6d2ym0000gn/T/ipykernel_56874/\u001b[0m\u001b[1;33m3293578302.py\u001b[0m\u001b[1;33m:\u001b[0m\u001b[1;33m319\u001b[0m\u001b[1;33m RemovedInAirflow3Warning\u001b[0m\u001b[33m: provide_context is deprecated as of \u001b[0m\u001b[1;33m2.0\u001b[0m\u001b[33m and is no longer required\u001b[0m\n"
      ]
     },
     "metadata": {},
     "output_type": "display_data"
    },
    {
     "data": {
      "text/html": [
       "<pre style=\"white-space:pre;overflow-x:auto;line-height:normal;font-family:Menlo,'DejaVu Sans Mono',consolas,'Courier New',monospace\"><span style=\"color: #808000; text-decoration-color: #808000; font-weight: bold\">/var/folders/vy/lbm6tmp563jbdts82tm6d2ym0000gn/T/ipykernel_56874/3293578302.py:</span><span style=\"color: #808000; text-decoration-color: #808000; font-weight: bold\">327</span><span style=\"color: #808000; text-decoration-color: #808000; font-weight: bold\"> RemovedInAirflow3Warning</span><span style=\"color: #808000; text-decoration-color: #808000\">: provide_context is deprecated as of </span><span style=\"color: #808000; text-decoration-color: #808000; font-weight: bold\">2.0</span><span style=\"color: #808000; text-decoration-color: #808000\"> and is no longer required</span>\n",
       "</pre>\n"
      ],
      "text/plain": [
       "\u001b[1;33m/var/folders/vy/lbm6tmp563jbdts82tm6d2ym0000gn/T/ipykernel_56874/\u001b[0m\u001b[1;33m3293578302.py\u001b[0m\u001b[1;33m:\u001b[0m\u001b[1;33m327\u001b[0m\u001b[1;33m RemovedInAirflow3Warning\u001b[0m\u001b[33m: provide_context is deprecated as of \u001b[0m\u001b[1;33m2.0\u001b[0m\u001b[33m and is no longer required\u001b[0m\n"
      ]
     },
     "metadata": {},
     "output_type": "display_data"
    },
    {
     "data": {
      "text/plain": [
       "<Task(PythonOperator): update_pinecone>"
      ]
     },
     "execution_count": 6,
     "metadata": {},
     "output_type": "execute_result"
    }
   ],
   "source": [
    "import os\n",
    "from airflow import DAG\n",
    "from airflow.operators.python_operator import PythonOperator\n",
    "from datetime import timedelta\n",
    "from bs4 import BeautifulSoup\n",
    "from airflow.utils.dates import days_ago\n",
    "import openai\n",
    "import requests\n",
    "import pandas as pd\n",
    "import re\n",
    "import boto3\n",
    "import pinecone\n",
    "import time\n",
    "from openai import OpenAI\n",
    "import ast\n",
    "\n",
    "s3_bucket = 'personalized-healthcare-recommendations-system'\n",
    "s3_object_key = 'List_of_Infectious_Diseases.csv'\n",
    "EMBEDDING_MODEL = \"text-embedding-ada-002\"\n",
    "\n",
    "try:\n",
    "    pinecone.init(api_key=os.getenv('PINECONE'), environment='gcp-starter')\n",
    "    index = pinecone.Index('bigdata')\n",
    "    print(\"Pinecone initialization and index creation successful.\")\n",
    "except Exception as e:\n",
    "    print(\"An error occurred:\", str(e))\n",
    "\n",
    "# Instantiate the DAG\n",
    "\n",
    "\n",
    "# Define a function that will be executed by the PythonOperator\n",
    "def scrape_and_download(output_csv_file):\n",
    "    # Site URL\n",
    "    url = \"https://en.wikipedia.org/wiki/List_of_infectious_diseases\"\n",
    "\n",
    "    # Make a GET request to fetch the raw HTML content\n",
    "    html_content = requests.get(url).text\n",
    "\n",
    "    # Parse HTML code for the entire site\n",
    "    soup = BeautifulSoup(html_content, \"html.parser\")\n",
    "\n",
    "    # Your scraping code here\n",
    "    dis = soup.find_all(\"table\", attrs={\"class\": \"sortable\"})\n",
    "#print(\"Number of tables on site: \",len(dis))\n",
    "\n",
    "# Lets go ahead and scrape first table with HTML code dis[0]\n",
    "    table1 = dis[0]\n",
    "\n",
    "# the head will form our column names\n",
    "    body = table1.find_all(\"tr\")\n",
    "\n",
    "# Head values (Column names) are the first items of the body list\n",
    "    head = body[0] # 0th item is the header row\n",
    "\n",
    "    body_rows = body[1:] # All other items becomes the rest of the rows\n",
    "\n",
    "\n",
    "\n",
    "# Declare empty list to keep Columns names\n",
    "    headings = []\n",
    "\n",
    "    for item in head.find_all(\"th\"): # loop through all th elements\n",
    "    # convert the th elements to text and strip \"\\n\"\n",
    "        item = (item.text).rstrip(\"\\n\")\n",
    "    # append the clean column name to headings\n",
    "        headings.append(item)\n",
    "\n",
    "\n",
    "\n",
    "    all_rows = [] # will be a list for list for all rows\n",
    "\n",
    "    for row_num in range(len(body_rows)): # A row at a time\n",
    "        row = [] # this will old entries for one row\n",
    "        for row_item in body_rows[row_num].find_all(\"td\"): #loop through all row entries\n",
    "        # row_item.text removes the tags from the entries\n",
    "        # the following regex is to remove \\xa0 and \\n and comma from row_item.text\n",
    "        # xa0 encodes the flag, \\n is the newline and comma separates thousands in numbers\n",
    "            aa = re.sub(\"(\\xa0)|(\\n)|,\",\"\",row_item.text)\n",
    "        #append aa to row - note one row entry is being appended\n",
    "            row.append(aa)\n",
    "    # append one row to all_rows\n",
    "        all_rows.append(row)\n",
    "\n",
    "# We can now use the data on all_rows and headings to make a table\n",
    "# all_rows becomes our data and headings the column names\n",
    "        df = pd.DataFrame(data=all_rows,columns=headings)\n",
    "#shows the first few rows as a preview in the dataframe\n",
    "#print(df)\n",
    "\n",
    "\n",
    "#reformatting 'Infectious agent' column by limitting the character length to 132 characters\n",
    "        df['Infectious agent'] = df['Infectious agent'].str[:132]\n",
    "#reformatting 'Vaccine(s)' column to take in only 14 character long values\n",
    "        df['Vaccine(s)'] = df['Vaccine(s)'].str[:14]\n",
    "\n",
    "# #Cleaing all these columns' values to see if data is getting modified/replaced.\n",
    "# #UPDATE: commenting below logic since, clean was successful.\n",
    "        df['Infectious agent'] = df['Infectious agent'].str.replace('á','a')\n",
    "        df['Infectious agent'] = df['Infectious agent'].str.replace(';','')\n",
    "        df['Infectious agent'] = df['Infectious agent'].str.replace('Yes','NA')\n",
    "        df['Infectious agent'] = df['Infectious agent'].str.replace(r'[41]','')\n",
    "        df['Infectious agent'] = df['Infectious agent'].str.replace('usually','')\n",
    "        df['Infectious agent'] = df['Infectious agent'].str.replace(r'[','')\n",
    "        df['Infectious agent'] = df['Infectious agent'].str.replace(r']','')\n",
    "        df['Common name'] = df['Common name'].str.replace(';','')\n",
    "        df['Common name'] = df['Common name'].str.replace('–','')\n",
    "        df['Common name'] = df['Common name'].str.replace('ä','a')\n",
    "        df['Common name'] = df['Common name'].str.replace('’','')\n",
    "        df[['Common name','Signs and symptoms','Diagnosis','Treatment','Vaccine(s)']] = df[['Common name','Signs and symptoms','Diagnosis','Treatment','Vaccine(s)']].fillna('NA') #yes it works\n",
    "        df['Signs and symptoms'] = df['Signs and symptoms'].str.replace('–',' to ')\n",
    "        df['Signs and symptoms'] = df['Signs and symptoms'].str.replace('ó','o')\n",
    "        df['Signs and symptoms'] = df['Signs and symptoms'].str.replace('°',' degrees ')\n",
    "\n",
    "# #inserting NaN values in the cells wherever empty\n",
    "        import numpy as np\n",
    "        df2 = df.replace(r'^\\s*$', np.nan, regex=True)\n",
    "\n",
    "#Now \"df2\" is my variable that stores updated dataframe having NaN values\n",
    "#Using df2, I am replacing NaN values with appropriate data under symptoms column\n",
    "\n",
    "        df2[['Signs and symptoms']] = df2[['Signs and symptoms']].fillna('No symptoms found')\n",
    "\n",
    "    #Now \"df2\" is my variable that stores updated dataframe having NaN values\n",
    "    #Using df2, I am replacing NaN values with appropriate data under diagnosis column\n",
    "\n",
    "        df2[['Diagnosis']] = df2[['Diagnosis']].fillna('No diagnosis found')\n",
    "\n",
    "    #Now \"df2\" is my variable that stores updated dataframe having NaN values\n",
    "    #Using df2, I am replacing NaN values with appropriate data under treatment column\n",
    "\n",
    "        df2[['Treatment']] = df2[['Treatment']].fillna('No treatment found')\n",
    "\n",
    "    #renaming \"Vaccine(s)\" column as \"Vaccine availability\"\n",
    "        df2 = df2.rename(columns={'Vaccine(s)': 'Vaccine_availability'})\n",
    "\n",
    "\n",
    "\n",
    "# #renaming all columns into different names\n",
    "        df2 = df2.rename(columns={'Infectious agent': 'Disease_agent'})\n",
    "        df2 = df2.rename(columns={'Common name': 'Disease_name'})\n",
    "        df2 = df2.rename(columns={'Signs and symptoms': 'Signs_and_symptoms'})\n",
    "\n",
    "\n",
    "    #\n",
    "    #creating a new dataframe df3 to only specify some columns in my diseases table\n",
    "        df3 = df2[['Disease_name','Signs_and_symptoms','Diagnosis','Treatment']]\n",
    "\n",
    "\n",
    "    #adding a new column to diseases table \"Disease_Id\"\n",
    "        df3.insert(0, 'Disease_Id', range(1, 1 + len(df3)))\n",
    "\n",
    "    # #Data cleaning is done for Diseases table\n",
    "    # #Now exporting diseases dataframe in CSV\n",
    "        # df3.to_csv('/opt/airflow/List_of_Infectious_Diseases.csv', index=False, encoding='utf-8')\n",
    "\n",
    "    df3.to_csv(output_csv_file, index=True)\n",
    "    upload_csv_to_s3(output_csv_file, 'List_of_Infectious_Diseases.csv')\n",
    "\n",
    "#uploading to s3\n",
    "       \n",
    "def upload_csv_to_s3(csv_file_path, s3_object_key):\n",
    "    a_key = os.getenv('A_KEY')\n",
    "    sa_key = os.getenv('SA_KEY')\n",
    "\n",
    "    # Configure AWS credentials\n",
    "    os.environ['AWS_ACCESS_KEY_ID'] = a_key\n",
    "    os.environ['AWS_SECRET_ACCESS_KEY'] = sa_key\n",
    "\n",
    "    s3_client = boto3.client('s3')\n",
    "\n",
    "    # Upload the CSV file, replacing it if it already exists.\n",
    "    s3_client.upload_file(csv_file_path, 'final-project-data-sources', s3_object_key)\n",
    "\n",
    "def download_file_from_s3( local_file_path = 'diseases.csv', bucket_name='personalized-healthcare-recommendations-system',object_key = 'diseases.csv'):\n",
    "    aws_access_key_id = os.getenv('A_KEY')\n",
    "    aws_secret_access_key = os.getenv('SA_KEY')\n",
    "    try:\n",
    "        # Initialize an S3 client\n",
    "        s3 = boto3.client('s3', aws_access_key_id=aws_access_key_id, aws_secret_access_key=aws_secret_access_key)\n",
    "\n",
    "        # Download the file\n",
    "        s3.download_file(bucket_name, object_key, local_file_path)\n",
    "        print(f\"File downloaded to {local_file_path}\")\n",
    "    except Exception as e:\n",
    "        print(f\"Error downloading file: {e}\")\n",
    "\n",
    "\n",
    "def gen_embed(filename='diseases.csv'):\n",
    "    df = pd.read_csv(filename)\n",
    "    df = df.iloc[190:195]\n",
    "    list = df['Signs_and_symptoms'].tolist()\n",
    "    client = OpenAI(api_key=os.getenv('OPENAI_API'))\n",
    "    print(\"______________________________________________here\")\n",
    "    print(len(list))\n",
    "    \n",
    "    embed_list = []\n",
    "    c = 0\n",
    "    for i in list:\n",
    "        text_embedding_response = client.embeddings.create(\n",
    "             input=i,\n",
    "            model=EMBEDDING_MODEL,\n",
    "        )\n",
    "        c+=1\n",
    "        text_embedding = text_embedding_response.data[0].embedding\n",
    "        embed_list.append(text_embedding)\n",
    "        print(c)\n",
    "        time.sleep(20)\n",
    "    df['embeds'] = embed_list\n",
    "    df.to_csv(\"embeddings.csv\", index=False)\n",
    "    upload_csv_to_s3(\"embeddings.csv\", \"embeddings.csv\")\n",
    "\n",
    "\n",
    "def download_embeds( local_file_path, object_key = 'embeddings.csv', bucket_name='personalized-healthcare-recommendations-system'):\n",
    "    aws_access_key_id = os.getenv('A_KEY')\n",
    "    aws_secret_access_key = os.getenv('SA_KEY')\n",
    "    try:\n",
    "        # Initialize an S3 client\n",
    "        s3 = boto3.client('s3', aws_access_key_id=aws_access_key_id, aws_secret_access_key=aws_secret_access_key)\n",
    "\n",
    "        # Download the file\n",
    "        s3.download_file(bucket_name, object_key, local_file_path)\n",
    "        print(f\"File downloaded to {local_file_path}\")\n",
    "    except Exception as e:\n",
    "        print(f\"Error downloading file: {e}\")\n",
    "\n",
    "\n",
    "\n",
    "def pinecone_upsert(filename='embeddings.csv'):\n",
    "    df = pd.read_csv(filename)\n",
    "    df['embeds'] = df['embeds'].apply(ast.literal_eval)\n",
    "    df.head()\n",
    "\n",
    "    df = df.rename(columns={df.columns[0]: 'Index'})\n",
    "    df['Index'] = df['Index'].astype(str)\n",
    "    # Setting batch size as 32\n",
    "    batch_size = 32\n",
    "    for i in range(0, len(df), batch_size):\n",
    "        batch_df = df[i:i + batch_size]\n",
    "        id_list = batch_df['Index'].tolist()\n",
    "        embeds = batch_df['embeds'].tolist()\n",
    "        diseases_list = batch_df['Disease_name'].tolist()\n",
    "        symptoms_list = batch_df['Signs_and_symptoms'].tolist()\n",
    "        treatment_list = batch_df['Treatment'].tolist()\n",
    "        diagnosis_list = batch_df['Diagnosis'].tolist()\n",
    "        m_list = []\n",
    "        \n",
    "        for i in range(len(id_list)):\n",
    "            m = {'Disease_name': diseases_list[i], 'Signs_and_symptoms': symptoms_list[i], 'Treatment': treatment_list[i], 'Diagnosis': diagnosis_list[i]}\n",
    "            m_list.append(m)\n",
    "        print(\"___________________here\")\n",
    "        print(m_list)\n",
    "        # meta = [{'text': text_batch} for text_batch in zip(metalist, text_list)]\n",
    "        to_upsert = zip(id_list, embeds, m_list) \n",
    "        index.upsert(vectors=list(to_upsert))\n",
    "\n",
    "\n",
    "\n",
    "\n",
    "dag = DAG(\n",
    "     # Set the desired schedule interval\n",
    "    dag_id=\"wikipedia_scraper\",\n",
    "    schedule_interval=None,   # Use schedule_interval instead of schedule\n",
    "    start_date=days_ago(0),\n",
    "    catchup=False,\n",
    "    dagrun_timeout=timedelta(minutes=60),\n",
    "    tags=[\"data_scraping\"],\n",
    ")\n",
    "\n",
    "\n",
    "# Create a PythonOperator that will run the scrape_and_download function\n",
    "scrape_task = PythonOperator(\n",
    "    task_id='scrape_and_download',\n",
    "    python_callable=scrape_and_download,\n",
    "    op_args=['/opt/airflow/List_of_Infectious_Diseases.csv'],  # Provide the output CSV file path as an argument\n",
    "    provide_context=True,  # This is needed to access the context in the function\n",
    "    dag=dag,\n",
    ")\n",
    "\n",
    "# Set the task dependencies\n",
    "scrape_task\n",
    "\n",
    "\n",
    "\n",
    "dag2 = DAG(\n",
    "     # Set the desired schedule interval\n",
    "    dag_id=\"embeddings_generator\",\n",
    "    schedule_interval=None,   # Use schedule_interval instead of schedule\n",
    "    start_date=days_ago(0),\n",
    "    catchup=False,\n",
    "    dagrun_timeout=timedelta(minutes=60),\n",
    ")\n",
    "\n",
    "download_file = PythonOperator(\n",
    "    task_id='download',\n",
    "    python_callable=download_file_from_s3, \n",
    "    op_args=['/opt/airflow/diseases.csv'],\n",
    "    provide_context=True,  \n",
    "    dag=dag2,\n",
    ")\n",
    "\n",
    "generate_embeds = PythonOperator(\n",
    "    task_id='gen_embed',\n",
    "    python_callable=gen_embed,\n",
    "    provide_context=True,  # This is needed to access the context in the function\n",
    "    dag=dag2,\n",
    ")\n",
    "\n",
    "download_file >> generate_embeds\n",
    "\n",
    "dag3 = DAG(\n",
    "     # Set the desired schedule interval\n",
    "    dag_id=\"add_to_pinecone\",\n",
    "    schedule_interval=None,   # Use schedule_interval instead of schedule\n",
    "    start_date=days_ago(0),\n",
    "    catchup=False,\n",
    "    dagrun_timeout=timedelta(minutes=60),\n",
    ")\n",
    "\n",
    "download = PythonOperator(\n",
    "    task_id='download_embeds',\n",
    "    python_callable=download_embeds, \n",
    "    op_args=['/opt/airflow/embeddings.csv','embeddings.csv'],\n",
    "    provide_context=True,  \n",
    "    dag=dag3,\n",
    ")\n",
    "\n",
    "pinecone_update = PythonOperator(\n",
    "    task_id='update_pinecone',\n",
    "    python_callable=pinecone_upsert, \n",
    "    provide_context=True,  \n",
    "    dag=dag3,\n",
    ")\n",
    "\n",
    "download >> pinecone_update\n",
    "\n",
    "\n",
    "\n"
   ]
  }
 ],
 "metadata": {
  "kernelspec": {
   "display_name": "PHRS",
   "language": "python",
   "name": "python3"
  },
  "language_info": {
   "codemirror_mode": {
    "name": "ipython",
    "version": 3
   },
   "file_extension": ".py",
   "mimetype": "text/x-python",
   "name": "python",
   "nbconvert_exporter": "python",
   "pygments_lexer": "ipython3",
   "version": "3.12.7"
  }
 },
 "nbformat": 4,
 "nbformat_minor": 2
}
